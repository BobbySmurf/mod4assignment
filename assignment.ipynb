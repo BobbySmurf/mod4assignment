{
 "cells": [
  {
   "cell_type": "code",
   "execution_count": null,
   "id": "b69d3695",
   "metadata": {},
   "outputs": [],
   "source": [
    "#11.1\n",
    "with open(\"zoo.py\", \"w\") as f:\n",
    "    f.write(\"\"\"\n",
    "def hours():\n",
    "    print(\"Open 9-5 daily\")\n",
    "\"\"\")\n"
   ]
  },
  {
   "cell_type": "code",
   "execution_count": null,
   "id": "e3301062",
   "metadata": {},
   "outputs": [],
   "source": [
    "import zoo\n",
    "zoo.hours()\n"
   ]
  },
  {
   "cell_type": "code",
   "execution_count": null,
   "id": "7f99f0c6",
   "metadata": {},
   "outputs": [],
   "source": [
    "#11.2\n",
    "import zoo as menagerie\n",
    "menagerie.hours()"
   ]
  },
  {
   "cell_type": "code",
   "execution_count": null,
   "id": "33f57321",
   "metadata": {},
   "outputs": [],
   "source": [
    "#16.8\n",
    "from sqlalchemy import create_engine, MetaData, Table, select\n",
    "\n",
    "engine = create_engine('sqlite:///books.db')\n",
    "connection = engine.connect()\n",
    "\n",
    "\n",
    "metadata = MetaData()\n",
    "book = Table('book', metadata, autoload_with=engine)\n",
    "\n",
    "\n",
    "stmt = select(book.c.title).order_by(book.c.title)\n",
    "results = connection.execute(stmt)\n",
    "\n",
    "# Print results\n",
    "for row in results:\n",
    "    print(row.title)"
   ]
  },
  {
   "cell_type": "code",
   "execution_count": null,
   "id": "26d23b98",
   "metadata": {},
   "outputs": [
    {
     "name": "stdout",
     "output_type": "stream",
     "text": [
      "Collecting sqlalchemy\n",
      "  Downloading sqlalchemy-2.0.40-cp311-cp311-win_amd64.whl (2.1 MB)\n",
      "     ---------------------------------------- 2.1/2.1 MB 3.7 MB/s eta 0:00:00\n",
      "Collecting greenlet>=1\n",
      "  Downloading greenlet-3.1.1-cp311-cp311-win_amd64.whl (298 kB)\n",
      "     -------------------------------------- 298.9/298.9 kB 3.7 MB/s eta 0:00:00\n",
      "Requirement already satisfied: typing-extensions>=4.6.0 in c:\\users\\jakev\\appdata\\roaming\\python\\python311\\site-packages (from sqlalchemy) (4.13.2)\n",
      "Installing collected packages: greenlet, sqlalchemy\n",
      "Successfully installed greenlet-3.1.1 sqlalchemy-2.0.40\n"
     ]
    },
    {
     "name": "stderr",
     "output_type": "stream",
     "text": [
      "\n",
      "[notice] A new release of pip available: 22.3.1 -> 25.0.1\n",
      "[notice] To update, run: python.exe -m pip install --upgrade pip\n"
     ]
    }
   ],
   "source": []
  }
 ],
 "metadata": {
  "kernelspec": {
   "display_name": "Python 3",
   "language": "python",
   "name": "python3"
  },
  "language_info": {
   "codemirror_mode": {
    "name": "ipython",
    "version": 3
   },
   "file_extension": ".py",
   "mimetype": "text/x-python",
   "name": "python",
   "nbconvert_exporter": "python",
   "pygments_lexer": "ipython3",
   "version": "3.11.3"
  }
 },
 "nbformat": 4,
 "nbformat_minor": 5
}
